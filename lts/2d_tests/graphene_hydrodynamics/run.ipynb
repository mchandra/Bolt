{
 "cells": [
  {
   "cell_type": "code",
   "execution_count": 1,
   "metadata": {
    "collapsed": false
   },
   "outputs": [],
   "source": [
    "import lts.initialize as initialize\n",
    "import lts.evolve as evolve\n",
    "import numpy as np\n",
    "import pylab as pl\n",
    "import params\n",
    "% matplotlib inline\n",
    "\n",
    "pl.rcParams['figure.figsize']  = 12, 7.5\n",
    "pl.rcParams['figure.dpi']      = 300\n",
    "pl.rcParams['image.cmap']      = 'jet'\n",
    "pl.rcParams['lines.linewidth'] = 1.5\n",
    "pl.rcParams['font.family']     = 'serif'\n",
    "pl.rcParams['font.weight']     = 'bold'\n",
    "pl.rcParams['font.size']       = 20  \n",
    "pl.rcParams['font.sans-serif'] = 'serif'\n",
    "pl.rcParams['text.usetex']     = True\n",
    "pl.rcParams['axes.linewidth']  = 1.5\n",
    "pl.rcParams['axes.titlesize']  = 'medium'\n",
    "pl.rcParams['axes.labelsize']  = 'medium'\n",
    "\n",
    "pl.rcParams['xtick.major.size'] = 8     \n",
    "pl.rcParams['xtick.minor.size'] = 4     \n",
    "pl.rcParams['xtick.major.pad']  = 8     \n",
    "pl.rcParams['xtick.minor.pad']  = 8     \n",
    "pl.rcParams['xtick.color']      = 'k'     \n",
    "pl.rcParams['xtick.labelsize']  = 'medium'\n",
    "pl.rcParams['xtick.direction']  = 'in'    \n",
    "\n",
    "pl.rcParams['ytick.major.size'] = 8     \n",
    "pl.rcParams['ytick.minor.size'] = 4     \n",
    "pl.rcParams['ytick.major.pad']  = 8     \n",
    "pl.rcParams['ytick.minor.pad']  = 8     \n",
    "pl.rcParams['ytick.color']      = 'k'     \n",
    "pl.rcParams['ytick.labelsize']  = 'medium'\n",
    "pl.rcParams['ytick.direction']  = 'in' "
   ]
  },
  {
   "cell_type": "code",
   "execution_count": 2,
   "metadata": {
    "collapsed": false
   },
   "outputs": [],
   "source": [
    "config = initialize.set(params)"
   ]
  },
  {
   "cell_type": "code",
   "execution_count": 3,
   "metadata": {
    "collapsed": false
   },
   "outputs": [],
   "source": [
    "delta_f_hat_initial = initialize.init_delta_f_hat(config)\n",
    "time_array          = initialize.time_array(config)"
   ]
  },
  {
   "cell_type": "code",
   "execution_count": 4,
   "metadata": {
    "collapsed": false
   },
   "outputs": [],
   "source": [
    "delta_f_hat = evolve.time_integration(config, delta_f_hat_initial, time_array)"
   ]
  },
  {
   "cell_type": "code",
   "execution_count": 5,
   "metadata": {
    "collapsed": false
   },
   "outputs": [
    {
     "name": "stderr",
     "output_type": "stream",
     "text": [
      "/home/mani/anaconda2/lib/python2.7/site-packages/ipykernel/__main__.py:40: ComplexWarning: Casting complex values to real discards the imaginary part\n",
      "/home/mani/anaconda2/lib/python2.7/site-packages/ipykernel/__main__.py:41: RuntimeWarning: invalid value encountered in cdouble_scalars\n",
      "/home/mani/anaconda2/lib/python2.7/site-packages/ipykernel/__main__.py:41: ComplexWarning: Casting complex values to real discards the imaginary part\n",
      "/home/mani/anaconda2/lib/python2.7/site-packages/ipykernel/__main__.py:41: RuntimeWarning: divide by zero encountered in cdouble_scalars\n"
     ]
    }
   ],
   "source": [
    "k_x = config.k_x\n",
    "k_y = config.k_y\n",
    "x   = config.x\n",
    "y   = config.y\n",
    "\n",
    "delta_rho_max   = np.zeros(delta_f_hat.shape[0])\n",
    "delta_E_sqr_max = np.zeros(delta_f_hat.shape[0])\n",
    "sigma_x_max     = np.zeros(delta_f_hat.shape[0])\n",
    "sigma_x_min     = np.zeros(delta_f_hat.shape[0])\n",
    "sigma_y_max     = np.zeros(delta_f_hat.shape[0])\n",
    "sigma_y_min     = np.zeros(delta_f_hat.shape[0])\n",
    "\n",
    "\n",
    "delta_rho       = np.zeros([time_array.size, config.N_y, config.N_x])\n",
    "delta_E_x       = np.zeros([time_array.size, config.N_y, config.N_x])\n",
    "delta_E_y       = np.zeros([time_array.size, config.N_y, config.N_x])\n",
    "delta_J_x       = np.zeros([time_array.size, config.N_y, config.N_x])\n",
    "delta_J_y       = np.zeros([time_array.size, config.N_y, config.N_x])\n",
    "sigma_x         = np.zeros([time_array.size, config.N_y, config.N_x])\n",
    "sigma_y         = np.zeros([time_array.size, config.N_y, config.N_x])\n",
    "\n",
    "delta_J_x_hat   = np.zeros([time_array.size])\n",
    "delta_J_y_hat   = np.zeros([time_array.size])\n",
    "\n",
    "for time_index in range(delta_f_hat.shape[0]):\n",
    "    delta_rho_tmp                = evolve.compute_delta_rho(delta_f_hat[time_index, :, :, :], config)\n",
    "    delta_E_x_tmp, delta_E_y_tmp = evolve.compute_delta_E(delta_f_hat[time_index, :, :, :], config)\n",
    "    delta_J_x_tmp, delta_J_y_tmp = evolve.compute_delta_J(delta_f_hat[time_index, :, :, :], config)\n",
    "    delta_J_x_hat, delta_J_y_hat = evolve.compute_delta_J_hat(delta_f_hat[time_index, :, :, :], config)\n",
    "\n",
    "    \n",
    "    delta_rho[time_index, :, :] = delta_rho_tmp\n",
    "    delta_E_x[time_index, :, :] = delta_E_x_tmp\n",
    "    delta_E_y[time_index, :, :] = delta_E_y_tmp\n",
    "    delta_J_x[time_index, :, :] = delta_J_x_tmp\n",
    "    delta_J_y[time_index, :, :] = delta_J_y_tmp\n",
    "    \n",
    "    #sigma_x[time_index, :, :]   = delta_J_x_tmp/delta_E_x_tmp\n",
    "    #sigma_y[time_index, :, :]   = delta_J_y_tmp/delta_E_y_tmp\n",
    "    sigma_x[time_index, :, :]   = delta_J_x_hat/config.delta_E_x_hat_ext\n",
    "    sigma_y[time_index, :, :]   = delta_J_y_hat/config.delta_E_y_hat_ext\n",
    "\n",
    "    \n",
    "    sigma_x_max[time_index]     = np.max(sigma_x[time_index, :, :])\n",
    "    sigma_x_min[time_index]     = np.min(sigma_x[time_index, :, :])\n",
    "    sigma_y_max[time_index]     = np.max(sigma_y[time_index, :, :])\n",
    "    sigma_y_min[time_index]     = np.min(sigma_y[time_index, :, :])\n",
    "    \n",
    "    delta_rho_max[time_index]   = np.max(delta_rho_tmp)\n",
    "    delta_E_sqr_max[time_index] = np.max(delta_E_x_tmp**2. + delta_E_y_tmp**2.)"
   ]
  },
  {
   "cell_type": "code",
   "execution_count": 6,
   "metadata": {
    "collapsed": false
   },
   "outputs": [
    {
     "data": {
      "text/plain": [
       "<matplotlib.legend.Legend at 0x7f04986b40d0>"
      ]
     },
     "execution_count": 6,
     "metadata": {},
     "output_type": "execute_result"
    },
    {
     "data": {
      "image/png": "[encoded data removed]",
      "text/plain": [
       "<matplotlib.figure.Figure at 0x7f04bc1ea8d0>"
      ]
     },
     "metadata": {},
     "output_type": "display_data"
    }
   ],
   "source": [
    "pl.semilogy(time_array, delta_rho_max, '.-')\n",
    "pl.semilogy(time_array, np.sqrt(delta_E_sqr_max), '.-')\n",
    "pl.xlabel('Time (a.u.)')\n",
    "pl.legend([r'$MAX(\\delta \\rho)$', r'$MAX(|E|)$'])\n",
    "#pl.savefig('/tmp/collisionless_electric_field_decay.png')\n",
    "#pl.ylabel(r'$MAX(\\delta \\rho(x, y))$')"
   ]
  },
  {
   "cell_type": "code",
   "execution_count": null,
   "metadata": {
    "collapsed": false,
    "scrolled": true
   },
   "outputs": [],
   "source": [
    "pl.semilogy(time_array[:-3], np.abs(sigma_y_max[:-3] - np.mean(sigma_y_max[500:-3])), '.-')\n",
    "#pl.semilogy(time_array, np.abs(sigma_x_min))\n",
    "#pl.xlabel(r'Time')\n",
    "#pl.ylabel(r'$\\sigma_{yy}$')\n",
    "#pl.savefig('/tmp/sigma_yy_tau_D_0.01.png')\n",
    "\n",
    "sigma_y_max[-3]\n",
    "\n",
    "#pl.plot(time_array, sigma_x_max)\n",
    "#pl.plot(time_array, sigma_x_min)\n",
    "#pl.plot(time_array, sigma_y_max)\n",
    "#pl.plot(time_array, sigma_y_min)"
   ]
  },
  {
   "cell_type": "code",
   "execution_count": null,
   "metadata": {
    "collapsed": false
   },
   "outputs": [],
   "source": [
    "np.mean(sigma_y_max[500:-3])"
   ]
  },
  {
   "cell_type": "code",
   "execution_count": 7,
   "metadata": {
    "collapsed": false,
    "scrolled": false
   },
   "outputs": [
    {
     "data": {
      "text/plain": [
       "<matplotlib.colorbar.Colorbar at 0x7f04869dca90>"
      ]
     },
     "execution_count": 7,
     "metadata": {},
     "output_type": "execute_result"
    },
    {
     "data": {
      "image/png": "[encoded data removed]",
      "text/plain": [
       "<matplotlib.figure.Figure at 0x7f0484a1c5d0>"
      ]
     },
     "metadata": {},
     "output_type": "display_data"
    }
   ],
   "source": [
    "#delta_J_x_hat, delta_J_y_hat = evolve.compute_delta_J_hat(delta_f_hat[-2, :, :, :], config)\n",
    "\n",
    "pl.figure(figsize=(18, 6))\n",
    "pl.subplot(121)\n",
    "pl.contourf(delta_f_hat[-2, 0, :, :].real, 100, cmap='bwr')\n",
    "pl.colorbar()\n",
    "\n",
    "pl.subplot(122)\n",
    "pl.contourf(delta_f_hat[-2, 0, :, :].imag, 100, cmap='bwr')\n",
    "pl.colorbar()\n"
   ]
  },
  {
   "cell_type": "code",
   "execution_count": null,
   "metadata": {
    "collapsed": false
   },
   "outputs": [],
   "source": [
    "config.chemical_potential_background"
   ]
  },
  {
   "cell_type": "code",
   "execution_count": null,
   "metadata": {
    "collapsed": false
   },
   "outputs": [],
   "source": [
    "upper_band_vel, lower_band_vel = config.band_velocities\n",
    "vel_x, vel_y = upper_band_vel\n",
    "\n",
    "dfdv_y_background, dfdv_x_background = initialize.dfdp_background(config)\n",
    "\n",
    "g_perturation = - config.tau_defect * config.delta_E_y_hat_ext * dfdv_y_background[0, :, :] \\\n",
    "                / (1. + 1j*config.tau_defect*(config.k_x*vel_x + config.k_y*vel_y))\n",
    "\n",
    "sigma_drude = 4./ (2.*np.pi)**2. * np.sum(g_perturation * vel_y) * config.dp_x * config.dp_y \\\n",
    "               / config.delta_E_y_hat_ext\n",
    "sigma_drude"
   ]
  },
  {
   "cell_type": "code",
   "execution_count": null,
   "metadata": {
    "collapsed": false
   },
   "outputs": [],
   "source": [
    "upper_band_vel, lower_band_vel = config.band_velocities\n",
    "vel_x, vel_y = upper_band_vel\n",
    "\n",
    "dfdv_y_background, dfdv_x_background = initialize.dfdp_background(config)\n",
    "\n",
    "g_perturation = - config.delta_E_y_hat_ext * dfdv_y_background[0, :, :]\n",
    "\n",
    "sigma_drude = 4./ (2.*np.pi)**2. * np.sum(g_perturation * vel_y) * config.dp_x * config.dp_y \\\n",
    "               / config.delta_E_y_hat_ext\n",
    "sigma_drude"
   ]
  },
  {
   "cell_type": "code",
   "execution_count": null,
   "metadata": {
    "collapsed": false
   },
   "outputs": [],
   "source": [
    "v_F  = config.fermi_velocity\n",
    "mu_0 = config.chemical_potential_background\n",
    "T_0  = config.temperature_background\n",
    "k    = config.boltzmann_constant\n",
    "k_x  = config.k_x\n",
    "\n",
    "p_magnitude = np.arange(0, .1, 0.00001)\n",
    "\n",
    "tmp_plus  = np.exp((v_F * p_magnitude - mu_0)/(k*T_0))\n",
    "tmp_minus = np.exp(-(v_F * p_magnitude - mu_0)/(k*T_0))\n",
    "\n",
    "integrand = p_magnitude / ((tmp_plus + 1.) * (tmp_minus + 1.))\n",
    "\n",
    "dp_magnitude = p_magnitude[1] - p_magnitude[0]\n",
    "\n",
    "sigma_drude = np.pi * v_F**2./(k*T_0) * np.sum(integrand) * dp_magnitude * 4./ (2.*np.pi)**2.\n",
    "pl.plot(p_magnitude, integrand)\n",
    "sigma_drude"
   ]
  },
  {
   "cell_type": "code",
   "execution_count": null,
   "metadata": {
    "collapsed": false
   },
   "outputs": [],
   "source": [
    "integrand"
   ]
  },
  {
   "cell_type": "code",
   "execution_count": null,
   "metadata": {
    "collapsed": false
   },
   "outputs": [],
   "source": [
    "upper_band_vel, lower_band_vel = config.band_velocities\n",
    "vel_x, vel_y = upper_band_vel\n",
    "\n",
    "dfdv_y_background, dfdv_x_background = initialize.dfdp_background(config)\n",
    "\n",
    "tau_eff   = (config.tau_ee * config.tau_defect) / (config.tau_ee + config.tau_defect)\n",
    "g_pert_0 = - tau_eff * config.charge_particle * config.delta_E_y_hat_ext * dfdv_y_background[0, :, :]\n",
    "\n",
    "E_upper = config.band_energies[0]\n",
    "mu_0    = config.chemical_potential_background\n",
    "T_0     = config.temperature_background\n",
    "k       = config.boltzmann_constant\n",
    "\n",
    "tmp = (E_upper - mu_0)/(k*T_0)\n",
    "\n",
    "A = 1./(k*T_0) * (1./ (np.exp(tmp) + 2. + np.exp(-tmp)))\n",
    "\n",
    "delta_vy_hat_eqbm = np.sum(g_pert_0 * config.p_y) / np.sum(A * config.p_y**2.)\n",
    "\n",
    "g_pert_1 = A * delta_vy_hat_eqbm * config.p_y * tau_eff/config.tau_ee\n",
    "    \n",
    "g_perturation = g_pert_0 + g_pert_1\n",
    "\n",
    "sigma_ee = 4./ (2.*np.pi)**2. * np.sum(g_perturation * vel_y) * config.dp_x * config.dp_y \\\n",
    "             / config.delta_E_y_hat_ext\n",
    "sigma_ee"
   ]
  },
  {
   "cell_type": "code",
   "execution_count": null,
   "metadata": {
    "collapsed": false
   },
   "outputs": [],
   "source": [
    "g_pert_collisionless = 1j * config.delta_E_y_hat_ext * dfdv_y_background[0, :, :] \\\n",
    "                       / ((config.k_x*vel_x + config.k_y*vel_y) + 1e-30)\n",
    "\n",
    "sigma_collisionless = 4./ (2.*np.pi)**2. * np.sum(g_pert_collisionless * vel_y) * config.dp_x * config.dp_y \\\n",
    "                      / config.delta_E_y_hat_ext\n",
    "\n",
    "sigma_collisionless "
   ]
  },
  {
   "cell_type": "code",
   "execution_count": null,
   "metadata": {
    "collapsed": false
   },
   "outputs": [],
   "source": [
    "v_F  = config.fermi_velocity\n",
    "mu_0 = config.chemical_potential_background\n",
    "T_0  = config.temperature_background\n",
    "k    = config.boltzmann_constant\n",
    "k_x  = config.k_x\n",
    "q    = config.charge_particle\n",
    "\n",
    "theta_integral = -2.*np.pi * 1j\n",
    "\n",
    "p_magnitude = np.arange(0, .1, 0.00001)\n",
    "\n",
    "tmp_plus  = np.exp((v_F * p_magnitude - mu_0)/(k*T_0))\n",
    "tmp_minus = np.exp(-(v_F * p_magnitude - mu_0)/(k*T_0))\n",
    "\n",
    "p_integrand = p_magnitude / ((tmp_plus + 1.) * (tmp_minus + 1.))\n",
    "\n",
    "dp_magnitude = p_magnitude[1] - p_magnitude[0]\n",
    "\n",
    "p_integral = np.sum(p_integrand) * dp_magnitude\n",
    "\n",
    "sigma_collisionless = 1j * (q * v_F/(k*T_0*k_x)) * theta_integral * p_integral * 4./ (2.*np.pi)**2.\n",
    "sigma_collisionless"
   ]
  },
  {
   "cell_type": "code",
   "execution_count": null,
   "metadata": {
    "collapsed": false
   },
   "outputs": [],
   "source": [
    "pl.contourf(g_pert_collisionless.imag, 100)"
   ]
  },
  {
   "cell_type": "code",
   "execution_count": null,
   "metadata": {
    "collapsed": false
   },
   "outputs": [],
   "source": [
    "#densities = np.array([1.95884201e-06,   6.55659536e-06,   1.41889733e-05,\n",
    "#                      2.48733826e-05,   3.86104480e-05,   5.54001306e-05,\n",
    "#                      7.52407164e-05,   9.80845181e-05])\n",
    "\n",
    "densities =   np.array([  1.95884201e-06,   3.88250193e-06,   6.55659536e-06,\n",
    "                          9.99142907e-06,   1.41889733e-05,   1.91496010e-05,\n",
    "                          2.48733826e-05,   3.13603312e-05,   3.86104480e-05,\n",
    "                          4.66237265e-05,   5.54001306e-05,   6.49394673e-05,\n",
    "                          7.52407164e-05,   8.62984861e-05,   9.80845181e-05])\n",
    "\n",
    "sigmas    = np.array([3.2439558158294355e-06, 4.7836082713162324e-06, 6.3654302808090933e-06, \\\n",
    "                      7.9551489493769998e-06, 9.5462666217634345e-06, 1.1137595700810652e-05, \\\n",
    "                      1.2728932273176742e-05, 1.4320248145461919e-05, 1.5911540656169923e-05, \\\n",
    "                      1.7502793161207763e-05, 1.9093898204576791e-05, 2.0684270880793796e-05, \\\n",
    "                      2.2270804610843415e-05, 2.3837091454561134e-05, 2.529758735659004e-05])\n",
    "\n",
    "sigmas_ee = np.array([1.8645862041521894e-06, 2.5977371135067074e-06, 3.3625576735139392e-06, \\\n",
    "                      4.1347931897889938e-06, 4.9113330595807559e-06, 5.6913591894203811e-06, \\\n",
    "                      6.4742133908575491e-06, 7.2593075192939788e-06, 8.046157990615159e-06, \\\n",
    "                      8.8343765166002012e-06, 9.623608323164434e-06, 1.0413296352418378e-05, \\\n",
    "                      1.1201577411920167e-05, 1.1979720419757229e-05, 1.2703956986744065e-05])\n",
    "\n",
    "pl.plot(densities, sigmas, 'o')\n",
    "pl.plot(densities, config.tau_defect * config.fermi_velocity * (np.pi * densities)**0.5 / np.pi, \\\n",
    "        )\n",
    "\n",
    "pl.plot(densities, sigmas_ee, 'o')\n",
    "pl.plot(densities, popt[0]*densities**popt[1], color='black')\n",
    "pl.legend([r'$\\sigma_D$', r'$\\sigma_D = \\frac{\\tau_D v_F \\sqrt{n}}{\\sqrt{\\pi}}$', \\\n",
    "           r'$\\sigma_ee$', r'Curve fit $\\sim \\sqrt{n}$'], loc='upper left')\n",
    "pl.xlabel(r'$n$ (in a.u.)')\n",
    "pl.savefig('/tmp/sigma_defect_vs_ee.png')"
   ]
  },
  {
   "cell_type": "code",
   "execution_count": null,
   "metadata": {
    "collapsed": false
   },
   "outputs": [],
   "source": [
    "from scipy.optimize import curve_fit\n",
    "\n",
    "def linear_fit(n, a, b, c):\n",
    "    sigma = a*n**b + c\n",
    "    return sigma\n",
    "\n",
    "popt, pcov = curve_fit(linear_fit, densities, sigmas_ee)\n",
    "print \"popt = \", popt\n",
    "print \"pcov = \", pcov"
   ]
  },
  {
   "cell_type": "code",
   "execution_count": null,
   "metadata": {
    "collapsed": false
   },
   "outputs": [],
   "source": [
    "def heaviside_theta(x):\n",
    "    if (x<=0):\n",
    "        return 0.\n",
    "    else:\n",
    "        return 1.\n",
    "\n",
    "heaviside_theta = np.vectorize(heaviside_theta)\n",
    "\n",
    "def compute_density(f, E):\n",
    "    density = 0\n",
    "    for band in range(f.shape[0]):\n",
    "        density += 4./(2. * np.pi)**2. * np.sum(f[band, :, :] - heaviside_theta(-E[band])) \\\n",
    "                  * config.dp_x * config.dp_y\n",
    "\n",
    "    return(density)\n",
    "\n",
    "def compute_temperature(f, E):\n",
    "    # WRONG WRONG WRONG : NOT WORKING\n",
    "    temperature = 0\n",
    "    for band in range(f.shape[0]):\n",
    "        temperature += 4./(2. * np.pi)**2. * np.sum(E[band] * f[band, :, :] - 0.*heaviside_theta(-E[band])) \\\n",
    "                      * config.dp_x * config.dp_y\n",
    "\n",
    "    return(temperature/compute_density(f, E))\n",
    "\n",
    "\n",
    "n_background = compute_density(initialize.f_background(config), config.band_energies)\n",
    "sigma_drude = config.tau_defect * config.fermi_velocity * np.sqrt(np.pi*n_background)/np.pi"
   ]
  },
  {
   "cell_type": "code",
   "execution_count": null,
   "metadata": {
    "collapsed": false
   },
   "outputs": [],
   "source": [
    "sigma_drude"
   ]
  },
  {
   "cell_type": "code",
   "execution_count": null,
   "metadata": {
    "collapsed": false
   },
   "outputs": [],
   "source": [
    "compute_temperature(initialize.f_background(config), config.band_energies)"
   ]
  },
  {
   "cell_type": "code",
   "execution_count": null,
   "metadata": {
    "collapsed": false
   },
   "outputs": [],
   "source": [
    "tau_defect_array = np.array([0.01, 0.02, 0.03, 0.04, 0.05, 0.06, 0.07, 0.08, 0.09, 0.1])\n",
    "sigma_array      = np.array([0.20587981417902299, 0.41304081020564293, 0.62281822062361647, 0.83666152113145276, \\\n",
    "                             1.056208295403152, 1.283382639199949, 1.5205358465672192, 1.7706612887893161, \\\n",
    "                             2.0377445899218865, 2.3273716897579626\n",
    "                            ])\n",
    "pl.plot(tau_defect_array, sigma_array, 'o-')"
   ]
  },
  {
   "cell_type": "code",
   "execution_count": null,
   "metadata": {
    "collapsed": false
   },
   "outputs": [],
   "source": [
    "from scipy.optimize import curve_fit\n",
    "\n",
    "def linear_fit(tau, a, b):\n",
    "    return a*tau + b\n",
    "\n",
    "popt, pcov = curve_fit(linear_fit, tau_defect_array, sigma_array)\n",
    "print \"popt = \", popt\n",
    "print \"pcov = \", pcov"
   ]
  },
  {
   "cell_type": "code",
   "execution_count": null,
   "metadata": {
    "collapsed": false
   },
   "outputs": [],
   "source": [
    "#delta_rho_max_no_fields = delta_rho_max.copy()\n",
    "#np.savetxt('/tmp/delta_rho_max_no_fields.txt', delta_rho_max_no_fields)\n",
    "\n",
    "delta_rho_max_with_fields = delta_rho_max.copy()\n",
    "np.savetxt('/tmp/delta_rho_max_with_fields.txt', delta_rho_max_with_fields)"
   ]
  },
  {
   "cell_type": "code",
   "execution_count": null,
   "metadata": {
    "collapsed": false
   },
   "outputs": [],
   "source": [
    "delta_rho_max_no_fields   = np.loadtxt('/tmp/delta_rho_max_no_fields.txt')\n",
    "delta_rho_max_with_fields = np.loadtxt('/tmp/delta_rho_max_with_fields.txt')\n",
    "\n",
    "pl.semilogy(time_array, delta_rho_max_no_fields, '.-')\n",
    "pl.semilogy(time_array, delta_rho_max_with_fields, '.-')\n",
    "\n",
    "pl.xlabel('Time (a.u.)')\n",
    "pl.ylabel(r'$MAX(\\delta \\rho(x, y))$')"
   ]
  },
  {
   "cell_type": "code",
   "execution_count": null,
   "metadata": {
    "collapsed": true
   },
   "outputs": [],
   "source": [
    "def mu_initial(x, y):\n",
    "    \n",
    "    delta_mu_hat = config.pert_real + 1j*config.pert_imag\n",
    "    mu_0         = config.chemical_potential_background\n",
    "    \n",
    "    delta_mu = delta_mu_hat.real * np.cos(k_x*x + k_y*y) - \\\n",
    "               delta_mu_hat.imag * np.sin(k_x*x + k_y*y)\n",
    "        \n",
    "    return mu_0 + delta_mu\n",
    "\n",
    "def f_initial(x, y):\n",
    "    \n",
    "    E    = config.band_energies\n",
    "    k    = config.boltzmann_constant\n",
    "    T    = config.temperature_background\n",
    "    mu_0 = config.chemical_potential_background\n",
    "\n",
    "    tmp = (E - mu_0)/(k*T)\n",
    "\n",
    "    delta_mu_hat = config.pert_real + 1j*config.pert_imag\n",
    "    \n",
    "    delta_mu = delta_mu_hat.real * np.cos(k_x*x + k_y*y) - \\\n",
    "               delta_mu_hat.imag * np.sin(k_x*x + k_y*y)\n",
    "\n",
    "    delta_f = \\\n",
    "        delta_mu * np.exp(tmp) \\\n",
    "      / (k*T * (np.exp(2.*tmp) + 2.*np.exp(tmp) + 1) )\n",
    "    \n",
    "    f0 = 1./(np.exp(tmp) + 1)\n",
    "        \n",
    "    #delta_f = delta_f_hat_initial[0].real * np.cos(k_x*x + k_y*y) - \\\n",
    "    #          delta_f_hat_initial[0].imag * np.sin(k_x*x + k_y*y)\n",
    "    \n",
    "    #return delta_f\n",
    "    return 1./(np.exp((E - mu_initial(x, y))/(k*T)) + 1)\n",
    "\n",
    "def f(x, y, t):\n",
    "    v_x_upper, v_y_upper = config.band_velocities[0]\n",
    "    v_x_lower, v_y_lower = config.band_velocities[1]\n",
    "    \n",
    "    v_x = np.array([v_x_upper, v_x_lower])\n",
    "    v_y = np.array([v_y_upper, v_y_lower])\n",
    "\n",
    "    return f_initial(x - v_x*t, y-v_y*t)\n",
    "\n",
    "def density(x, y, t):\n",
    "    \n",
    "    return np.sum(f(x, y, t)) * config.dv_x * config.dv_y"
   ]
  },
  {
   "cell_type": "code",
   "execution_count": null,
   "metadata": {
    "collapsed": false,
    "scrolled": true
   },
   "outputs": [],
   "source": [
    "density_array     = np.zeros([delta_f_hat.shape[0], x.shape[0], x.shape[1]])\n",
    "density_array_max = np.zeros(delta_f_hat.shape[0])\n",
    "\n",
    "for time_index in range(delta_f_hat.shape[0]):\n",
    "    print \"time_index = \", time_index, \" of \", delta_f_hat.shape[0]\n",
    "    for j in range(x.shape[0]):\n",
    "        for i in range(x.shape[1]):\n",
    "            density_array[time_index, j, i] = density(x[0][i], y[j][0], time_array[time_index])\n",
    "    \n",
    "    density_array_max[time_index]   = np.max(density_array[time_index, :, :])\n"
   ]
  },
  {
   "cell_type": "code",
   "execution_count": null,
   "metadata": {
    "collapsed": false
   },
   "outputs": [],
   "source": [
    "pl.contourf(x, y, density_array[0, :, :] - np.mean(density_array[0, :, :]), 100)\n",
    "pl.colorbar()"
   ]
  },
  {
   "cell_type": "code",
   "execution_count": null,
   "metadata": {
    "collapsed": false
   },
   "outputs": [],
   "source": [
    "pl.plot(time_array[:-1], delta_rho_max[:-1], color='red')\n",
    "pl.plot(time_array, density_array_max - np.mean(density_array[0, :, :]), color='black', linestyle='--')\n",
    "pl.legend([r'Linear theory', r'Analytic advection'])\n",
    "pl.xlabel('Time (a.u.)')\n",
    "pl.ylabel(r'$MAX(\\delta \\rho(x, y))$')\n",
    "pl.title(r'$\\mu_0 = 0.01$')\n",
    "#pl.savefig('/tmp/linear_theory_vs_analytic_advection_mu0_minus_0.01.png')"
   ]
  },
  {
   "cell_type": "code",
   "execution_count": null,
   "metadata": {
    "collapsed": false
   },
   "outputs": [],
   "source": [
    "np.max(density_array[0, :, :] - 0.*np.mean(density_array[0, :, :]) )"
   ]
  },
  {
   "cell_type": "code",
   "execution_count": null,
   "metadata": {
    "collapsed": false
   },
   "outputs": [],
   "source": [
    "config.pert_real"
   ]
  },
  {
   "cell_type": "code",
   "execution_count": null,
   "metadata": {
    "collapsed": false
   },
   "outputs": [],
   "source": [
    "np.min(density_array[0, :, :])"
   ]
  },
  {
   "cell_type": "code",
   "execution_count": null,
   "metadata": {
    "collapsed": false
   },
   "outputs": [],
   "source": [
    "np.max(density_array[0, :, :])"
   ]
  },
  {
   "cell_type": "code",
   "execution_count": null,
   "metadata": {
    "collapsed": false
   },
   "outputs": [],
   "source": [
    "np.mean(density_array[0, :, :])"
   ]
  },
  {
   "cell_type": "code",
   "execution_count": null,
   "metadata": {
    "collapsed": true
   },
   "outputs": [],
   "source": []
  }
 ],
 "metadata": {
  "anaconda-cloud": {},
  "kernelspec": {
   "display_name": "Python 2",
   "language": "python",
   "name": "python2"
  },
  "language_info": {
   "codemirror_mode": {
    "name": "ipython",
    "version": 2
   },
   "file_extension": ".py",
   "mimetype": "text/x-python",
   "name": "python",
   "nbconvert_exporter": "python",
   "pygments_lexer": "ipython2",
   "version": "2.7.12"
  }
 },
 "nbformat": 4,
 "nbformat_minor": 1
}
